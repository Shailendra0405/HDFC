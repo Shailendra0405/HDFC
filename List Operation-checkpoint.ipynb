{
 "cells": [
  {
   "cell_type": "code",
   "execution_count": null,
   "id": "efbf079c",
   "metadata": {},
   "outputs": [],
   "source": [
    "How to create list?"
   ]
  },
  {
   "cell_type": "code",
   "execution_count": null,
   "id": "f82a5224",
   "metadata": {},
   "outputs": [],
   "source": [
    "1.symbolic\n",
    "2.method"
   ]
  },
  {
   "cell_type": "code",
   "execution_count": 1,
   "id": "cbfbdbb8",
   "metadata": {},
   "outputs": [],
   "source": [
    "py_emp_sal = []"
   ]
  },
  {
   "cell_type": "code",
   "execution_count": 2,
   "id": "197cb2b4",
   "metadata": {},
   "outputs": [
    {
     "data": {
      "text/plain": [
       "list"
      ]
     },
     "execution_count": 2,
     "metadata": {},
     "output_type": "execute_result"
    }
   ],
   "source": [
    "type(py_emp_sal)"
   ]
  },
  {
   "cell_type": "code",
   "execution_count": 3,
   "id": "464787fc",
   "metadata": {},
   "outputs": [
    {
     "data": {
      "text/plain": [
       "[]"
      ]
     },
     "execution_count": 3,
     "metadata": {},
     "output_type": "execute_result"
    }
   ],
   "source": [
    "py_emp_sal"
   ]
  },
  {
   "cell_type": "code",
   "execution_count": 4,
   "id": "5158129f",
   "metadata": {},
   "outputs": [],
   "source": [
    "a = []"
   ]
  },
  {
   "cell_type": "code",
   "execution_count": 5,
   "id": "f2af8a9a",
   "metadata": {},
   "outputs": [
    {
     "data": {
      "text/plain": [
       "list"
      ]
     },
     "execution_count": 5,
     "metadata": {},
     "output_type": "execute_result"
    }
   ],
   "source": [
    "type(a)"
   ]
  },
  {
   "cell_type": "code",
   "execution_count": 6,
   "id": "0584e470",
   "metadata": {},
   "outputs": [],
   "source": [
    "t = []"
   ]
  },
  {
   "cell_type": "code",
   "execution_count": 7,
   "id": "314460fc",
   "metadata": {},
   "outputs": [
    {
     "data": {
      "text/plain": [
       "list"
      ]
     },
     "execution_count": 7,
     "metadata": {},
     "output_type": "execute_result"
    }
   ],
   "source": [
    "type(t)"
   ]
  },
  {
   "cell_type": "code",
   "execution_count": 8,
   "id": "0bfca5c4",
   "metadata": {},
   "outputs": [],
   "source": [
    "p = list()   # method"
   ]
  },
  {
   "cell_type": "code",
   "execution_count": 9,
   "id": "5dadc504",
   "metadata": {},
   "outputs": [
    {
     "data": {
      "text/plain": [
       "list"
      ]
     },
     "execution_count": 9,
     "metadata": {},
     "output_type": "execute_result"
    }
   ],
   "source": [
    "type(p)"
   ]
  },
  {
   "cell_type": "code",
   "execution_count": null,
   "id": "6eecca16",
   "metadata": {},
   "outputs": [],
   "source": [
    "list()\n",
    "tuple\n",
    "set\n",
    "dict\n"
   ]
  },
  {
   "cell_type": "code",
   "execution_count": 11,
   "id": "e9a4e4af",
   "metadata": {},
   "outputs": [],
   "source": [
    "temp = tuple()"
   ]
  },
  {
   "cell_type": "code",
   "execution_count": 12,
   "id": "84e9441f",
   "metadata": {},
   "outputs": [
    {
     "data": {
      "text/plain": [
       "tuple"
      ]
     },
     "execution_count": 12,
     "metadata": {},
     "output_type": "execute_result"
    }
   ],
   "source": [
    "type(temp)"
   ]
  },
  {
   "cell_type": "code",
   "execution_count": 13,
   "id": "4c4bb215",
   "metadata": {},
   "outputs": [],
   "source": [
    "test = list()"
   ]
  },
  {
   "cell_type": "code",
   "execution_count": 14,
   "id": "5abbfb25",
   "metadata": {},
   "outputs": [
    {
     "data": {
      "text/plain": [
       "list"
      ]
     },
     "execution_count": 14,
     "metadata": {},
     "output_type": "execute_result"
    }
   ],
   "source": [
    "type(test)"
   ]
  },
  {
   "cell_type": "code",
   "execution_count": null,
   "id": "a1ac7956",
   "metadata": {},
   "outputs": [],
   "source": [
    "Data "
   ]
  },
  {
   "cell_type": "code",
   "execution_count": 15,
   "id": "7a9255ba",
   "metadata": {},
   "outputs": [],
   "source": [
    "emp_id = [454,4646,23,867,3,54865,345]"
   ]
  },
  {
   "cell_type": "code",
   "execution_count": 16,
   "id": "5f6368ed",
   "metadata": {},
   "outputs": [
    {
     "data": {
      "text/plain": [
       "[454, 4646, 23, 867, 3, 54865, 345]"
      ]
     },
     "execution_count": 16,
     "metadata": {},
     "output_type": "execute_result"
    }
   ],
   "source": [
    "emp_id"
   ]
  },
  {
   "cell_type": "code",
   "execution_count": 17,
   "id": "b840286f",
   "metadata": {},
   "outputs": [
    {
     "data": {
      "text/plain": [
       "[454, 4646, 23, 867, 3, 54865, 345]"
      ]
     },
     "execution_count": 17,
     "metadata": {},
     "output_type": "execute_result"
    }
   ],
   "source": [
    "emp_id"
   ]
  },
  {
   "cell_type": "code",
   "execution_count": 18,
   "id": "cf328651",
   "metadata": {},
   "outputs": [
    {
     "data": {
      "text/plain": [
       "867"
      ]
     },
     "execution_count": 18,
     "metadata": {},
     "output_type": "execute_result"
    }
   ],
   "source": [
    "emp_id[3]"
   ]
  },
  {
   "cell_type": "code",
   "execution_count": 19,
   "id": "ff83690d",
   "metadata": {},
   "outputs": [
    {
     "data": {
      "text/plain": [
       "[454, 4646, 23, 867, 3, 54865, 345]"
      ]
     },
     "execution_count": 19,
     "metadata": {},
     "output_type": "execute_result"
    }
   ],
   "source": [
    "emp_id"
   ]
  },
  {
   "cell_type": "code",
   "execution_count": 20,
   "id": "3f5e4c2a",
   "metadata": {},
   "outputs": [
    {
     "data": {
      "text/plain": [
       "345"
      ]
     },
     "execution_count": 20,
     "metadata": {},
     "output_type": "execute_result"
    }
   ],
   "source": [
    "emp_id[6]"
   ]
  },
  {
   "cell_type": "code",
   "execution_count": 22,
   "id": "6b3707ac",
   "metadata": {},
   "outputs": [
    {
     "data": {
      "text/plain": [
       "345"
      ]
     },
     "execution_count": 22,
     "metadata": {},
     "output_type": "execute_result"
    }
   ],
   "source": [
    "emp_id[-1]"
   ]
  },
  {
   "cell_type": "code",
   "execution_count": 24,
   "id": "2ef0cd95",
   "metadata": {},
   "outputs": [],
   "source": [
    " # 9223372036854775807"
   ]
  },
  {
   "cell_type": "code",
   "execution_count": 27,
   "id": "33f1deba",
   "metadata": {},
   "outputs": [],
   "source": [
    "t = [100,200,[500,460,[750,460,[123,[11,[79,[86,[1,2,3,[49,[79,[10,[2]]]]]]]]]]]]"
   ]
  },
  {
   "cell_type": "code",
   "execution_count": 28,
   "id": "e3326b8c",
   "metadata": {},
   "outputs": [
    {
     "data": {
      "text/plain": [
       "[100,\n",
       " 200,\n",
       " [500,\n",
       "  460,\n",
       "  [750, 460, [123, [11, [79, [86, [1, 2, 3, [49, [79, [10, [2]]]]]]]]]]]]"
      ]
     },
     "execution_count": 28,
     "metadata": {},
     "output_type": "execute_result"
    }
   ],
   "source": [
    "t"
   ]
  },
  {
   "cell_type": "code",
   "execution_count": 30,
   "id": "e7874127",
   "metadata": {},
   "outputs": [],
   "source": [
    "p = [12,45,[56,78,90,[1,2,3]]]"
   ]
  },
  {
   "cell_type": "code",
   "execution_count": 33,
   "id": "8d9b2bf7",
   "metadata": {},
   "outputs": [
    {
     "data": {
      "text/plain": [
       "2"
      ]
     },
     "execution_count": 33,
     "metadata": {},
     "output_type": "execute_result"
    }
   ],
   "source": [
    "p[2][3][1]"
   ]
  },
  {
   "cell_type": "code",
   "execution_count": 34,
   "id": "ebe8ca22",
   "metadata": {},
   "outputs": [
    {
     "data": {
      "text/plain": [
       "[100,\n",
       " 200,\n",
       " [500,\n",
       "  460,\n",
       "  [750, 460, [123, [11, [79, [86, [1, 2, 3, [49, [79, [10, [2]]]]]]]]]]]]"
      ]
     },
     "execution_count": 34,
     "metadata": {},
     "output_type": "execute_result"
    }
   ],
   "source": [
    "t"
   ]
  },
  {
   "cell_type": "code",
   "execution_count": 44,
   "id": "2039d35c",
   "metadata": {},
   "outputs": [
    {
     "data": {
      "text/plain": [
       "79"
      ]
     },
     "execution_count": 44,
     "metadata": {},
     "output_type": "execute_result"
    }
   ],
   "source": [
    "t[2][2][2][1][1][1][1][3][1][0]"
   ]
  },
  {
   "cell_type": "code",
   "execution_count": null,
   "id": "85b027b8",
   "metadata": {},
   "outputs": [],
   "source": [
    "copy\n",
    "paste\n",
    "find\n",
    "\n",
    "\n",
    "google\n",
    "stackoverflow"
   ]
  },
  {
   "cell_type": "code",
   "execution_count": 45,
   "id": "e8869476",
   "metadata": {},
   "outputs": [
    {
     "data": {
      "text/plain": [
       "[12, 45, [56, 78, 90, [1, 2, 3]]]"
      ]
     },
     "execution_count": 45,
     "metadata": {},
     "output_type": "execute_result"
    }
   ],
   "source": [
    "p"
   ]
  },
  {
   "cell_type": "code",
   "execution_count": 46,
   "id": "f83c5814",
   "metadata": {},
   "outputs": [],
   "source": [
    "p = [3,56,78,2,6,23,7,2,67,2,2,2,2,2,2,2,]"
   ]
  },
  {
   "cell_type": "code",
   "execution_count": 47,
   "id": "d772e0e4",
   "metadata": {},
   "outputs": [
    {
     "data": {
      "text/plain": [
       "[3, 56, 78, 2, 6, 23, 7, 2, 67, 2, 2, 2, 2, 2, 2, 2]"
      ]
     },
     "execution_count": 47,
     "metadata": {},
     "output_type": "execute_result"
    }
   ],
   "source": [
    "p"
   ]
  },
  {
   "cell_type": "code",
   "execution_count": 48,
   "id": "f59729d6",
   "metadata": {},
   "outputs": [
    {
     "data": {
      "text/plain": [
       "2"
      ]
     },
     "execution_count": 48,
     "metadata": {},
     "output_type": "execute_result"
    }
   ],
   "source": [
    "p[3]"
   ]
  },
  {
   "cell_type": "code",
   "execution_count": 49,
   "id": "7c7e4415",
   "metadata": {},
   "outputs": [
    {
     "data": {
      "text/plain": [
       "3"
      ]
     },
     "execution_count": 49,
     "metadata": {},
     "output_type": "execute_result"
    }
   ],
   "source": [
    "p.index(2)"
   ]
  },
  {
   "cell_type": "code",
   "execution_count": null,
   "id": "ee382260",
   "metadata": {},
   "outputs": [],
   "source": []
  },
  {
   "cell_type": "code",
   "execution_count": null,
   "id": "2b8bc538",
   "metadata": {},
   "outputs": [],
   "source": [
    "Operation:\n",
    "    insertion\n",
    "        1.insert\n",
    "        2.append\n",
    "        3.extend\n",
    "    deletion\n",
    "    updation"
   ]
  },
  {
   "cell_type": "code",
   "execution_count": 93,
   "id": "97f31bd0",
   "metadata": {},
   "outputs": [],
   "source": [
    "py_list = ['Python','Java','ML','Hadoop','Pyspark','DS','test']"
   ]
  },
  {
   "cell_type": "code",
   "execution_count": null,
   "id": "eb18de33",
   "metadata": {},
   "outputs": [],
   "source": [
    "insert\n",
    "insert single element at desired location\n",
    "\n",
    "insert(index,element)"
   ]
  },
  {
   "cell_type": "code",
   "execution_count": 53,
   "id": "62bf2dbe",
   "metadata": {},
   "outputs": [],
   "source": [
    "py_list.insert(2,'Deep Learning')"
   ]
  },
  {
   "cell_type": "code",
   "execution_count": 54,
   "id": "2f16fe01",
   "metadata": {},
   "outputs": [
    {
     "data": {
      "text/plain": [
       "['Python', 'Java', 'Deep Learning', 'ML', 'Hadoop', 'Pyspark', 'DS']"
      ]
     },
     "execution_count": 54,
     "metadata": {},
     "output_type": "execute_result"
    }
   ],
   "source": [
    "py_list"
   ]
  },
  {
   "cell_type": "code",
   "execution_count": 94,
   "id": "fe73f564",
   "metadata": {},
   "outputs": [],
   "source": [
    "py_list.insert(4,'Django')"
   ]
  },
  {
   "cell_type": "code",
   "execution_count": 95,
   "id": "f7dac0e0",
   "metadata": {},
   "outputs": [
    {
     "data": {
      "text/plain": [
       "['Python', 'Java', 'ML', 'Hadoop', 'Django', 'Pyspark', 'DS', 'test']"
      ]
     },
     "execution_count": 95,
     "metadata": {},
     "output_type": "execute_result"
    }
   ],
   "source": [
    "py_list"
   ]
  },
  {
   "cell_type": "code",
   "execution_count": 57,
   "id": "8308ad97",
   "metadata": {},
   "outputs": [],
   "source": [
    "py = [34,78,90]"
   ]
  },
  {
   "cell_type": "code",
   "execution_count": 58,
   "id": "02612e83",
   "metadata": {},
   "outputs": [],
   "source": [
    "py.insert(1,100)"
   ]
  },
  {
   "cell_type": "code",
   "execution_count": 59,
   "id": "debad625",
   "metadata": {},
   "outputs": [
    {
     "data": {
      "text/plain": [
       "[34, 100, 78, 90]"
      ]
     },
     "execution_count": 59,
     "metadata": {},
     "output_type": "execute_result"
    }
   ],
   "source": [
    "py"
   ]
  },
  {
   "cell_type": "code",
   "execution_count": 60,
   "id": "5eeeefcc",
   "metadata": {},
   "outputs": [],
   "source": [
    "py.insert(-1,200)"
   ]
  },
  {
   "cell_type": "code",
   "execution_count": 61,
   "id": "3d101994",
   "metadata": {},
   "outputs": [
    {
     "data": {
      "text/plain": [
       "[34, 100, 78, 200, 90]"
      ]
     },
     "execution_count": 61,
     "metadata": {},
     "output_type": "execute_result"
    }
   ],
   "source": [
    "py"
   ]
  },
  {
   "cell_type": "code",
   "execution_count": null,
   "id": "35f27522",
   "metadata": {},
   "outputs": [],
   "source": [
    "#append\n",
    "\n",
    "add at the end single element\n",
    "\n"
   ]
  },
  {
   "cell_type": "code",
   "execution_count": 62,
   "id": "9a3ead50",
   "metadata": {},
   "outputs": [
    {
     "data": {
      "text/plain": [
       "[34, 100, 78, 200, 90]"
      ]
     },
     "execution_count": 62,
     "metadata": {},
     "output_type": "execute_result"
    }
   ],
   "source": [
    "py"
   ]
  },
  {
   "cell_type": "code",
   "execution_count": 63,
   "id": "52e0baa3",
   "metadata": {},
   "outputs": [],
   "source": [
    "py.append(790)"
   ]
  },
  {
   "cell_type": "code",
   "execution_count": 64,
   "id": "3b98d077",
   "metadata": {},
   "outputs": [
    {
     "data": {
      "text/plain": [
       "[34, 100, 78, 200, 90, 790]"
      ]
     },
     "execution_count": 64,
     "metadata": {},
     "output_type": "execute_result"
    }
   ],
   "source": [
    "py"
   ]
  },
  {
   "cell_type": "code",
   "execution_count": 65,
   "id": "5add406c",
   "metadata": {},
   "outputs": [],
   "source": [
    "py.append(3435)"
   ]
  },
  {
   "cell_type": "code",
   "execution_count": 66,
   "id": "747a7439",
   "metadata": {},
   "outputs": [
    {
     "data": {
      "text/plain": [
       "[34, 100, 78, 200, 90, 790, 3435]"
      ]
     },
     "execution_count": 66,
     "metadata": {},
     "output_type": "execute_result"
    }
   ],
   "source": [
    "py"
   ]
  },
  {
   "cell_type": "code",
   "execution_count": null,
   "id": "f1408446",
   "metadata": {},
   "outputs": [],
   "source": [
    "file --\n",
    "100\n",
    "\n",
    "\n",
    "line read \n",
    "\n",
    "line  append "
   ]
  },
  {
   "cell_type": "code",
   "execution_count": null,
   "id": "eced8797",
   "metadata": {},
   "outputs": [],
   "source": []
  },
  {
   "cell_type": "code",
   "execution_count": null,
   "id": "d753d620",
   "metadata": {},
   "outputs": [],
   "source": [
    "database emp \n",
    "\n",
    "100\n",
    "\n",
    "1 -- process --  append -- list"
   ]
  },
  {
   "cell_type": "code",
   "execution_count": null,
   "id": "12fe63d4",
   "metadata": {},
   "outputs": [],
   "source": []
  },
  {
   "cell_type": "code",
   "execution_count": 68,
   "id": "b8cea520",
   "metadata": {},
   "outputs": [
    {
     "ename": "TypeError",
     "evalue": "list.append() takes exactly one argument (2 given)",
     "output_type": "error",
     "traceback": [
      "\u001b[1;31m---------------------------------------------------------------------------\u001b[0m",
      "\u001b[1;31mTypeError\u001b[0m                                 Traceback (most recent call last)",
      "Input \u001b[1;32mIn [68]\u001b[0m, in \u001b[0;36m<cell line: 1>\u001b[1;34m()\u001b[0m\n\u001b[1;32m----> 1\u001b[0m \u001b[43mpy\u001b[49m\u001b[38;5;241;43m.\u001b[39;49m\u001b[43mappend\u001b[49m\u001b[43m(\u001b[49m\u001b[38;5;241;43m3\u001b[39;49m\u001b[43m,\u001b[49m\u001b[38;5;241;43m567\u001b[39;49m\u001b[43m)\u001b[49m\n",
      "\u001b[1;31mTypeError\u001b[0m: list.append() takes exactly one argument (2 given)"
     ]
    }
   ],
   "source": [
    "py.append(3,567)"
   ]
  },
  {
   "cell_type": "code",
   "execution_count": 70,
   "id": "24570245",
   "metadata": {},
   "outputs": [],
   "source": [
    "sdfsdFA = 45"
   ]
  },
  {
   "cell_type": "code",
   "execution_count": 71,
   "id": "d657bf4a",
   "metadata": {},
   "outputs": [
    {
     "data": {
      "text/plain": [
       "45"
      ]
     },
     "execution_count": 71,
     "metadata": {},
     "output_type": "execute_result"
    }
   ],
   "source": [
    "sdfsdFA\n"
   ]
  },
  {
   "cell_type": "code",
   "execution_count": 72,
   "id": "fd708260",
   "metadata": {},
   "outputs": [],
   "source": [
    "p1 = [34,86,24,94]"
   ]
  },
  {
   "cell_type": "code",
   "execution_count": 73,
   "id": "2f0a1610",
   "metadata": {},
   "outputs": [],
   "source": [
    "tmp = [68,35,94,697,34,97,35]"
   ]
  },
  {
   "cell_type": "code",
   "execution_count": null,
   "id": "a5468b5c",
   "metadata": {},
   "outputs": [],
   "source": [
    "#extend\n",
    "it is used to insert multiple element at the end"
   ]
  },
  {
   "cell_type": "code",
   "execution_count": 74,
   "id": "3d175d8c",
   "metadata": {},
   "outputs": [],
   "source": [
    "tmp.extend(p1)"
   ]
  },
  {
   "cell_type": "code",
   "execution_count": 75,
   "id": "2f541a8b",
   "metadata": {},
   "outputs": [
    {
     "data": {
      "text/plain": [
       "[68, 35, 94, 697, 34, 97, 35, 34, 86, 24, 94]"
      ]
     },
     "execution_count": 75,
     "metadata": {},
     "output_type": "execute_result"
    }
   ],
   "source": [
    "tmp"
   ]
  },
  {
   "cell_type": "code",
   "execution_count": 76,
   "id": "f3dc5c6c",
   "metadata": {},
   "outputs": [],
   "source": [
    "a = ['a','b','c']"
   ]
  },
  {
   "cell_type": "code",
   "execution_count": 77,
   "id": "2e41a249",
   "metadata": {},
   "outputs": [],
   "source": [
    "a.extend(['d','e','f'])"
   ]
  },
  {
   "cell_type": "code",
   "execution_count": 78,
   "id": "27c66997",
   "metadata": {},
   "outputs": [
    {
     "data": {
      "text/plain": [
       "['a', 'b', 'c', 'd', 'e', 'f']"
      ]
     },
     "execution_count": 78,
     "metadata": {},
     "output_type": "execute_result"
    }
   ],
   "source": [
    "a"
   ]
  },
  {
   "cell_type": "code",
   "execution_count": 79,
   "id": "97710fd5",
   "metadata": {},
   "outputs": [],
   "source": [
    "a.extend(['simran','rahul','rakesh'])"
   ]
  },
  {
   "cell_type": "code",
   "execution_count": 80,
   "id": "4f18d4db",
   "metadata": {},
   "outputs": [
    {
     "data": {
      "text/plain": [
       "['a', 'b', 'c', 'd', 'e', 'f', 'simran', 'rahul', 'rakesh']"
      ]
     },
     "execution_count": 80,
     "metadata": {},
     "output_type": "execute_result"
    }
   ],
   "source": [
    "a"
   ]
  },
  {
   "cell_type": "code",
   "execution_count": 81,
   "id": "a03ac9ed",
   "metadata": {},
   "outputs": [
    {
     "data": {
      "text/plain": [
       "['a', 'b', 'c', 'd', 'e', 'f', 'simran', 'rahul', 'rakesh']"
      ]
     },
     "execution_count": 81,
     "metadata": {},
     "output_type": "execute_result"
    }
   ],
   "source": [
    "a"
   ]
  },
  {
   "cell_type": "code",
   "execution_count": 82,
   "id": "f9766c69",
   "metadata": {},
   "outputs": [],
   "source": [
    "a.insert(2,['x','y','z'])"
   ]
  },
  {
   "cell_type": "code",
   "execution_count": 83,
   "id": "4c93fc86",
   "metadata": {},
   "outputs": [
    {
     "data": {
      "text/plain": [
       "['a', 'b', ['x', 'y', 'z'], 'c', 'd', 'e', 'f', 'simran', 'rahul', 'rakesh']"
      ]
     },
     "execution_count": 83,
     "metadata": {},
     "output_type": "execute_result"
    }
   ],
   "source": [
    "a"
   ]
  },
  {
   "cell_type": "code",
   "execution_count": 84,
   "id": "558be649",
   "metadata": {},
   "outputs": [],
   "source": [
    "a = [23,86,24,8,6,'python']"
   ]
  },
  {
   "cell_type": "code",
   "execution_count": 87,
   "id": "bcd336e7",
   "metadata": {},
   "outputs": [],
   "source": [
    "a.extend([56,689,345])\n",
    "a.append(54)"
   ]
  },
  {
   "cell_type": "code",
   "execution_count": 88,
   "id": "4b5846ef",
   "metadata": {},
   "outputs": [
    {
     "data": {
      "text/plain": [
       "[23, 86, 24, 8, 6, 'python', 'sdfdf', 1616, 'sadfsd']"
      ]
     },
     "execution_count": 88,
     "metadata": {},
     "output_type": "execute_result"
    }
   ],
   "source": [
    "a"
   ]
  },
  {
   "cell_type": "code",
   "execution_count": 91,
   "id": "c7d1a00f",
   "metadata": {},
   "outputs": [],
   "source": [
    "a.insert(2,{5,756,35})"
   ]
  },
  {
   "cell_type": "code",
   "execution_count": 92,
   "id": "74d56f65",
   "metadata": {},
   "outputs": [
    {
     "data": {
      "text/plain": [
       "[23,\n",
       " 86,\n",
       " {5, 35, 756},\n",
       " [100, 200, 300],\n",
       " 24,\n",
       " 8,\n",
       " 6,\n",
       " 'python',\n",
       " 'sdfdf',\n",
       " 1616,\n",
       " 'sadfsd']"
      ]
     },
     "execution_count": 92,
     "metadata": {},
     "output_type": "execute_result"
    }
   ],
   "source": [
    "a"
   ]
  },
  {
   "cell_type": "code",
   "execution_count": null,
   "id": "8f55f40b",
   "metadata": {},
   "outputs": [],
   "source": [
    "insert  -- to add single element at desired location\n",
    "append -- to add single element at the end\n",
    "extend -- to add multipl element at the end"
   ]
  }
 ],
 "metadata": {
  "kernelspec": {
   "display_name": "Python 3 (ipykernel)",
   "language": "python",
   "name": "python3"
  },
  "language_info": {
   "codemirror_mode": {
    "name": "ipython",
    "version": 3
   },
   "file_extension": ".py",
   "mimetype": "text/x-python",
   "name": "python",
   "nbconvert_exporter": "python",
   "pygments_lexer": "ipython3",
   "version": "3.9.12"
  }
 },
 "nbformat": 4,
 "nbformat_minor": 5
}
